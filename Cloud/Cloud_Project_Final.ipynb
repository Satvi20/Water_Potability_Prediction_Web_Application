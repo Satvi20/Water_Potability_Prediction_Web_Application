{
  "cells": [
    {
      "cell_type": "code",
      "execution_count": 1,
      "metadata": {
        "id": "XArIBbC0S5q_"
      },
      "outputs": [],
      "source": [
        "import numpy as np\n",
        "import pandas as pd\n",
        "import seaborn as sns\n",
        "import matplotlib.pyplot as plt"
      ]
    },
    {
      "cell_type": "code",
      "execution_count": 2,
      "metadata": {
        "colab": {
          "base_uri": "https://localhost:8080/"
        },
        "id": "TjS6YTR5TbQU",
        "outputId": "1ce74041-9381-4a19-cfe9-0ab7727b990a"
      },
      "outputs": [],
      "source": [
        "# from google.colab import drive\n",
        "# drive.mount('/content/drive')"
      ]
    },
    {
      "cell_type": "code",
      "execution_count": 3,
      "metadata": {
        "colab": {
          "base_uri": "https://localhost:8080/",
          "height": 206
        },
        "id": "pD8UJdu_ThoB",
        "outputId": "d701f52c-b299-44dc-c683-9030683e6cf3"
      },
      "outputs": [
        {
          "data": {
            "text/html": [
              "<div>\n",
              "<style scoped>\n",
              "    .dataframe tbody tr th:only-of-type {\n",
              "        vertical-align: middle;\n",
              "    }\n",
              "\n",
              "    .dataframe tbody tr th {\n",
              "        vertical-align: top;\n",
              "    }\n",
              "\n",
              "    .dataframe thead th {\n",
              "        text-align: right;\n",
              "    }\n",
              "</style>\n",
              "<table border=\"1\" class=\"dataframe\">\n",
              "  <thead>\n",
              "    <tr style=\"text-align: right;\">\n",
              "      <th></th>\n",
              "      <th>ph</th>\n",
              "      <th>Hardness</th>\n",
              "      <th>Solids</th>\n",
              "      <th>Chloramines</th>\n",
              "      <th>Sulfate</th>\n",
              "      <th>Conductivity</th>\n",
              "      <th>Organic_carbon</th>\n",
              "      <th>Trihalomethanes</th>\n",
              "      <th>Turbidity</th>\n",
              "      <th>Potability</th>\n",
              "    </tr>\n",
              "  </thead>\n",
              "  <tbody>\n",
              "    <tr>\n",
              "      <th>0</th>\n",
              "      <td>NaN</td>\n",
              "      <td>204.890455</td>\n",
              "      <td>20791.318981</td>\n",
              "      <td>7.300212</td>\n",
              "      <td>368.516441</td>\n",
              "      <td>564.308654</td>\n",
              "      <td>10.379783</td>\n",
              "      <td>86.990970</td>\n",
              "      <td>2.963135</td>\n",
              "      <td>0</td>\n",
              "    </tr>\n",
              "    <tr>\n",
              "      <th>1</th>\n",
              "      <td>3.716080</td>\n",
              "      <td>129.422921</td>\n",
              "      <td>18630.057858</td>\n",
              "      <td>6.635246</td>\n",
              "      <td>NaN</td>\n",
              "      <td>592.885359</td>\n",
              "      <td>15.180013</td>\n",
              "      <td>56.329076</td>\n",
              "      <td>4.500656</td>\n",
              "      <td>0</td>\n",
              "    </tr>\n",
              "    <tr>\n",
              "      <th>2</th>\n",
              "      <td>8.099124</td>\n",
              "      <td>224.236259</td>\n",
              "      <td>19909.541732</td>\n",
              "      <td>9.275884</td>\n",
              "      <td>NaN</td>\n",
              "      <td>418.606213</td>\n",
              "      <td>16.868637</td>\n",
              "      <td>66.420093</td>\n",
              "      <td>3.055934</td>\n",
              "      <td>0</td>\n",
              "    </tr>\n",
              "    <tr>\n",
              "      <th>3</th>\n",
              "      <td>8.316766</td>\n",
              "      <td>214.373394</td>\n",
              "      <td>22018.417441</td>\n",
              "      <td>8.059332</td>\n",
              "      <td>356.886136</td>\n",
              "      <td>363.266516</td>\n",
              "      <td>18.436524</td>\n",
              "      <td>100.341674</td>\n",
              "      <td>4.628771</td>\n",
              "      <td>0</td>\n",
              "    </tr>\n",
              "    <tr>\n",
              "      <th>4</th>\n",
              "      <td>9.092223</td>\n",
              "      <td>181.101509</td>\n",
              "      <td>17978.986339</td>\n",
              "      <td>6.546600</td>\n",
              "      <td>310.135738</td>\n",
              "      <td>398.410813</td>\n",
              "      <td>11.558279</td>\n",
              "      <td>31.997993</td>\n",
              "      <td>4.075075</td>\n",
              "      <td>0</td>\n",
              "    </tr>\n",
              "  </tbody>\n",
              "</table>\n",
              "</div>"
            ],
            "text/plain": [
              "         ph    Hardness        Solids  Chloramines     Sulfate  Conductivity  \\\n",
              "0       NaN  204.890455  20791.318981     7.300212  368.516441    564.308654   \n",
              "1  3.716080  129.422921  18630.057858     6.635246         NaN    592.885359   \n",
              "2  8.099124  224.236259  19909.541732     9.275884         NaN    418.606213   \n",
              "3  8.316766  214.373394  22018.417441     8.059332  356.886136    363.266516   \n",
              "4  9.092223  181.101509  17978.986339     6.546600  310.135738    398.410813   \n",
              "\n",
              "   Organic_carbon  Trihalomethanes  Turbidity  Potability  \n",
              "0       10.379783        86.990970   2.963135           0  \n",
              "1       15.180013        56.329076   4.500656           0  \n",
              "2       16.868637        66.420093   3.055934           0  \n",
              "3       18.436524       100.341674   4.628771           0  \n",
              "4       11.558279        31.997993   4.075075           0  "
            ]
          },
          "execution_count": 3,
          "metadata": {},
          "output_type": "execute_result"
        }
      ],
      "source": [
        "# data=pd.read_csv('/content/drive/MyDrive/Cloud Project/water_potability.csv')\n",
        "data=pd.read_csv('water_potability.csv')\n",
        "data.head()"
      ]
    },
    {
      "cell_type": "code",
      "execution_count": 4,
      "metadata": {
        "colab": {
          "base_uri": "https://localhost:8080/"
        },
        "id": "jris2Jtqo22B",
        "outputId": "e2174901-0a5d-490e-a5a3-f702fdb08ef1"
      },
      "outputs": [
        {
          "data": {
            "text/plain": [
              "(3276, 10)"
            ]
          },
          "execution_count": 4,
          "metadata": {},
          "output_type": "execute_result"
        }
      ],
      "source": [
        "data.shape"
      ]
    },
    {
      "cell_type": "code",
      "execution_count": 5,
      "metadata": {
        "colab": {
          "base_uri": "https://localhost:8080/"
        },
        "id": "YoaRxrCTV-FB",
        "outputId": "2dfdff25-21cf-4f5b-9550-c20968f7e07e"
      },
      "outputs": [
        {
          "data": {
            "text/plain": [
              "array([86.99097046, 56.32907628, 66.42009251, ..., 69.84540029,\n",
              "       77.4882131 , 78.69844633])"
            ]
          },
          "execution_count": 5,
          "metadata": {},
          "output_type": "execute_result"
        }
      ],
      "source": [
        "data['ph'].unique()\n",
        "data['Sulfate'].unique()\n",
        "data['Trihalomethanes'].unique()"
      ]
    },
    {
      "cell_type": "code",
      "execution_count": 6,
      "metadata": {
        "colab": {
          "base_uri": "https://localhost:8080/"
        },
        "id": "qgMiaGiRTxBR",
        "outputId": "908a273a-19ad-4da1-ab7b-0a06a0cccd91"
      },
      "outputs": [
        {
          "data": {
            "text/plain": [
              "ph                 491\n",
              "Hardness             0\n",
              "Solids               0\n",
              "Chloramines          0\n",
              "Sulfate            781\n",
              "Conductivity         0\n",
              "Organic_carbon       0\n",
              "Trihalomethanes    162\n",
              "Turbidity            0\n",
              "Potability           0\n",
              "dtype: int64"
            ]
          },
          "execution_count": 6,
          "metadata": {},
          "output_type": "execute_result"
        }
      ],
      "source": [
        "data.isnull().sum()"
      ]
    },
    {
      "cell_type": "code",
      "execution_count": 7,
      "metadata": {
        "id": "59y1jH118WDX"
      },
      "outputs": [],
      "source": [
        "data.dropna(inplace=True)"
      ]
    },
    {
      "cell_type": "code",
      "execution_count": 8,
      "metadata": {
        "id": "PBnrnhd7U7Ht"
      },
      "outputs": [],
      "source": [
        "# mean_value=data['ph'].mean()\n",
        "# data['ph'].fillna(value=mean_value, inplace=True)"
      ]
    },
    {
      "cell_type": "code",
      "execution_count": 9,
      "metadata": {
        "id": "QJeedWAFXIpy"
      },
      "outputs": [],
      "source": [
        "# mean_value=data['Sulfate'].mean()\n",
        "# data['Sulfate'].fillna(value=mean_value, inplace=True)"
      ]
    },
    {
      "cell_type": "code",
      "execution_count": 10,
      "metadata": {
        "id": "Wz_6zPiSXKy4"
      },
      "outputs": [],
      "source": [
        "# mean_value=data['Trihalomethanes'].mean()\n",
        "# data['Trihalomethanes'].fillna(value=mean_value, inplace=True)"
      ]
    },
    {
      "cell_type": "code",
      "execution_count": 11,
      "metadata": {
        "colab": {
          "base_uri": "https://localhost:8080/",
          "height": 423
        },
        "id": "7tyGLRq5XWw8",
        "outputId": "1f9d1eda-2004-46a2-e666-02ec8e497da5"
      },
      "outputs": [
        {
          "data": {
            "text/html": [
              "<div>\n",
              "<style scoped>\n",
              "    .dataframe tbody tr th:only-of-type {\n",
              "        vertical-align: middle;\n",
              "    }\n",
              "\n",
              "    .dataframe tbody tr th {\n",
              "        vertical-align: top;\n",
              "    }\n",
              "\n",
              "    .dataframe thead th {\n",
              "        text-align: right;\n",
              "    }\n",
              "</style>\n",
              "<table border=\"1\" class=\"dataframe\">\n",
              "  <thead>\n",
              "    <tr style=\"text-align: right;\">\n",
              "      <th></th>\n",
              "      <th>ph</th>\n",
              "      <th>Hardness</th>\n",
              "      <th>Solids</th>\n",
              "      <th>Chloramines</th>\n",
              "      <th>Sulfate</th>\n",
              "      <th>Conductivity</th>\n",
              "      <th>Organic_carbon</th>\n",
              "      <th>Trihalomethanes</th>\n",
              "      <th>Turbidity</th>\n",
              "      <th>Potability</th>\n",
              "    </tr>\n",
              "  </thead>\n",
              "  <tbody>\n",
              "    <tr>\n",
              "      <th>3</th>\n",
              "      <td>8.316766</td>\n",
              "      <td>214.373394</td>\n",
              "      <td>22018.417441</td>\n",
              "      <td>8.059332</td>\n",
              "      <td>356.886136</td>\n",
              "      <td>363.266516</td>\n",
              "      <td>18.436524</td>\n",
              "      <td>100.341674</td>\n",
              "      <td>4.628771</td>\n",
              "      <td>0</td>\n",
              "    </tr>\n",
              "    <tr>\n",
              "      <th>4</th>\n",
              "      <td>9.092223</td>\n",
              "      <td>181.101509</td>\n",
              "      <td>17978.986339</td>\n",
              "      <td>6.546600</td>\n",
              "      <td>310.135738</td>\n",
              "      <td>398.410813</td>\n",
              "      <td>11.558279</td>\n",
              "      <td>31.997993</td>\n",
              "      <td>4.075075</td>\n",
              "      <td>0</td>\n",
              "    </tr>\n",
              "    <tr>\n",
              "      <th>5</th>\n",
              "      <td>5.584087</td>\n",
              "      <td>188.313324</td>\n",
              "      <td>28748.687739</td>\n",
              "      <td>7.544869</td>\n",
              "      <td>326.678363</td>\n",
              "      <td>280.467916</td>\n",
              "      <td>8.399735</td>\n",
              "      <td>54.917862</td>\n",
              "      <td>2.559708</td>\n",
              "      <td>0</td>\n",
              "    </tr>\n",
              "    <tr>\n",
              "      <th>6</th>\n",
              "      <td>10.223862</td>\n",
              "      <td>248.071735</td>\n",
              "      <td>28749.716544</td>\n",
              "      <td>7.513408</td>\n",
              "      <td>393.663396</td>\n",
              "      <td>283.651634</td>\n",
              "      <td>13.789695</td>\n",
              "      <td>84.603556</td>\n",
              "      <td>2.672989</td>\n",
              "      <td>0</td>\n",
              "    </tr>\n",
              "    <tr>\n",
              "      <th>7</th>\n",
              "      <td>8.635849</td>\n",
              "      <td>203.361523</td>\n",
              "      <td>13672.091764</td>\n",
              "      <td>4.563009</td>\n",
              "      <td>303.309771</td>\n",
              "      <td>474.607645</td>\n",
              "      <td>12.363817</td>\n",
              "      <td>62.798309</td>\n",
              "      <td>4.401425</td>\n",
              "      <td>0</td>\n",
              "    </tr>\n",
              "    <tr>\n",
              "      <th>...</th>\n",
              "      <td>...</td>\n",
              "      <td>...</td>\n",
              "      <td>...</td>\n",
              "      <td>...</td>\n",
              "      <td>...</td>\n",
              "      <td>...</td>\n",
              "      <td>...</td>\n",
              "      <td>...</td>\n",
              "      <td>...</td>\n",
              "      <td>...</td>\n",
              "    </tr>\n",
              "    <tr>\n",
              "      <th>3267</th>\n",
              "      <td>8.989900</td>\n",
              "      <td>215.047358</td>\n",
              "      <td>15921.412018</td>\n",
              "      <td>6.297312</td>\n",
              "      <td>312.931022</td>\n",
              "      <td>390.410231</td>\n",
              "      <td>9.899115</td>\n",
              "      <td>55.069304</td>\n",
              "      <td>4.613843</td>\n",
              "      <td>1</td>\n",
              "    </tr>\n",
              "    <tr>\n",
              "      <th>3268</th>\n",
              "      <td>6.702547</td>\n",
              "      <td>207.321086</td>\n",
              "      <td>17246.920347</td>\n",
              "      <td>7.708117</td>\n",
              "      <td>304.510230</td>\n",
              "      <td>329.266002</td>\n",
              "      <td>16.217303</td>\n",
              "      <td>28.878601</td>\n",
              "      <td>3.442983</td>\n",
              "      <td>1</td>\n",
              "    </tr>\n",
              "    <tr>\n",
              "      <th>3269</th>\n",
              "      <td>11.491011</td>\n",
              "      <td>94.812545</td>\n",
              "      <td>37188.826022</td>\n",
              "      <td>9.263166</td>\n",
              "      <td>258.930600</td>\n",
              "      <td>439.893618</td>\n",
              "      <td>16.172755</td>\n",
              "      <td>41.558501</td>\n",
              "      <td>4.369264</td>\n",
              "      <td>1</td>\n",
              "    </tr>\n",
              "    <tr>\n",
              "      <th>3270</th>\n",
              "      <td>6.069616</td>\n",
              "      <td>186.659040</td>\n",
              "      <td>26138.780191</td>\n",
              "      <td>7.747547</td>\n",
              "      <td>345.700257</td>\n",
              "      <td>415.886955</td>\n",
              "      <td>12.067620</td>\n",
              "      <td>60.419921</td>\n",
              "      <td>3.669712</td>\n",
              "      <td>1</td>\n",
              "    </tr>\n",
              "    <tr>\n",
              "      <th>3271</th>\n",
              "      <td>4.668102</td>\n",
              "      <td>193.681735</td>\n",
              "      <td>47580.991603</td>\n",
              "      <td>7.166639</td>\n",
              "      <td>359.948574</td>\n",
              "      <td>526.424171</td>\n",
              "      <td>13.894419</td>\n",
              "      <td>66.687695</td>\n",
              "      <td>4.435821</td>\n",
              "      <td>1</td>\n",
              "    </tr>\n",
              "  </tbody>\n",
              "</table>\n",
              "<p>2011 rows × 10 columns</p>\n",
              "</div>"
            ],
            "text/plain": [
              "             ph    Hardness        Solids  Chloramines     Sulfate  \\\n",
              "3      8.316766  214.373394  22018.417441     8.059332  356.886136   \n",
              "4      9.092223  181.101509  17978.986339     6.546600  310.135738   \n",
              "5      5.584087  188.313324  28748.687739     7.544869  326.678363   \n",
              "6     10.223862  248.071735  28749.716544     7.513408  393.663396   \n",
              "7      8.635849  203.361523  13672.091764     4.563009  303.309771   \n",
              "...         ...         ...           ...          ...         ...   \n",
              "3267   8.989900  215.047358  15921.412018     6.297312  312.931022   \n",
              "3268   6.702547  207.321086  17246.920347     7.708117  304.510230   \n",
              "3269  11.491011   94.812545  37188.826022     9.263166  258.930600   \n",
              "3270   6.069616  186.659040  26138.780191     7.747547  345.700257   \n",
              "3271   4.668102  193.681735  47580.991603     7.166639  359.948574   \n",
              "\n",
              "      Conductivity  Organic_carbon  Trihalomethanes  Turbidity  Potability  \n",
              "3       363.266516       18.436524       100.341674   4.628771           0  \n",
              "4       398.410813       11.558279        31.997993   4.075075           0  \n",
              "5       280.467916        8.399735        54.917862   2.559708           0  \n",
              "6       283.651634       13.789695        84.603556   2.672989           0  \n",
              "7       474.607645       12.363817        62.798309   4.401425           0  \n",
              "...            ...             ...              ...        ...         ...  \n",
              "3267    390.410231        9.899115        55.069304   4.613843           1  \n",
              "3268    329.266002       16.217303        28.878601   3.442983           1  \n",
              "3269    439.893618       16.172755        41.558501   4.369264           1  \n",
              "3270    415.886955       12.067620        60.419921   3.669712           1  \n",
              "3271    526.424171       13.894419        66.687695   4.435821           1  \n",
              "\n",
              "[2011 rows x 10 columns]"
            ]
          },
          "execution_count": 11,
          "metadata": {},
          "output_type": "execute_result"
        }
      ],
      "source": [
        "data"
      ]
    },
    {
      "cell_type": "code",
      "execution_count": 12,
      "metadata": {
        "colab": {
          "base_uri": "https://localhost:8080/"
        },
        "id": "H0cVknYA_zdN",
        "outputId": "df466bd6-1238-4c2c-ce52-ca580e9f4744"
      },
      "outputs": [
        {
          "name": "stdout",
          "output_type": "stream",
          "text": [
            "13.999999999999998 0.2274990502021987\n",
            "317.33812405558257 73.4922336890611\n",
            "56488.67241273919 320.942611274359\n",
            "13.127000000000002 1.3908709048851806\n",
            "481.0306423059972 129.00000000000003\n",
            "753.3426195583046 201.6197367551575\n",
            "27.00670661116601 2.1999999999999886\n",
            "124.0 8.577012932983806\n",
            "6.494748555990993 1.45\n"
          ]
        }
      ],
      "source": [
        "print(data['ph'].max() , data['ph'].min())\n",
        "print(data['Hardness'].max() , data['Hardness'].min() )\n",
        "print(data['Solids'].max() , data['Solids'].min())\n",
        "print(data['Chloramines'].max() , data['Chloramines'].min())\n",
        "print(data['Sulfate'].max() , data['Sulfate'].min())\n",
        "print(data['Conductivity'].max() ,data['Conductivity'].min())\n",
        "print(data['Organic_carbon'].max() , data['Organic_carbon'].min())\n",
        "print(data['Trihalomethanes'].max() ,data['Trihalomethanes'].min())\n",
        "print(data['Turbidity'].max() ,data['Turbidity'].min())\n"
      ]
    },
    {
      "cell_type": "code",
      "execution_count": 13,
      "metadata": {
        "colab": {
          "base_uri": "https://localhost:8080/"
        },
        "id": "JWHMkutz_7pS",
        "outputId": "abda8866-efa3-463f-a63e-a4936c749d8a"
      },
      "outputs": [
        {
          "data": {
            "text/plain": [
              "ph                 0\n",
              "Hardness           0\n",
              "Solids             0\n",
              "Chloramines        0\n",
              "Sulfate            0\n",
              "Conductivity       0\n",
              "Organic_carbon     0\n",
              "Trihalomethanes    0\n",
              "Turbidity          0\n",
              "Potability         0\n",
              "dtype: int64"
            ]
          },
          "execution_count": 13,
          "metadata": {},
          "output_type": "execute_result"
        }
      ],
      "source": [
        "data.isnull().sum()"
      ]
    },
    {
      "cell_type": "code",
      "execution_count": 19,
      "metadata": {
        "id": "HwdduuKE46WZ"
      },
      "outputs": [],
      "source": [
        "zero  = data[data['Potability']==0]   #zero values in Potability column\n",
        "one = data[data['Potability']==1]  \n",
        "from sklearn.utils import resample\n",
        "#minority class that  is 1, we need to upsample/increase that class so that there is no bias\n",
        "#n_samples = 1998 means we want 1998 sample of class 1, since there are 1998 samples of class 0\n",
        "df_minority_upsampled = resample(one, replace = True, n_samples = 1200) \n",
        "#concatenate\n",
        "data= pd.concat([zero, df_minority_upsampled])\n",
        "\n",
        "from sklearn.utils import shuffle\n",
        "data = shuffle(data)"
      ]
    },
    {
      "cell_type": "code",
      "execution_count": 20,
      "metadata": {
        "colab": {
          "base_uri": "https://localhost:8080/"
        },
        "id": "HzrQpDjq5H6N",
        "outputId": "c07afe4e-4d94-4130-a744-d33e7f4bb8f1"
      },
      "outputs": [
        {
          "data": {
            "text/plain": [
              "Potability         1.000000\n",
              "Sulfate            0.041314\n",
              "Solids             0.030199\n",
              "Organic_carbon     0.028589\n",
              "Chloramines        0.026740\n",
              "Hardness           0.019853\n",
              "Conductivity       0.019609\n",
              "ph                 0.016108\n",
              "Turbidity          0.004999\n",
              "Trihalomethanes    0.003872\n",
              "Name: Potability, dtype: float64"
            ]
          },
          "execution_count": 20,
          "metadata": {},
          "output_type": "execute_result"
        }
      ],
      "source": [
        "data.corr().abs()['Potability'].sort_values(ascending = False)"
      ]
    },
    {
      "cell_type": "code",
      "execution_count": 21,
      "metadata": {
        "id": "YaVokec4Xe-q"
      },
      "outputs": [],
      "source": [
        "X = data.drop('Potability', axis=1)\n",
        "y = data['Potability']"
      ]
    },
    {
      "cell_type": "code",
      "execution_count": 22,
      "metadata": {
        "id": "8gTToayRsax8"
      },
      "outputs": [],
      "source": [
        "X = round(X, 2)"
      ]
    },
    {
      "cell_type": "code",
      "execution_count": 23,
      "metadata": {
        "colab": {
          "base_uri": "https://localhost:8080/",
          "height": 423
        },
        "id": "x0l7XLIo-6eD",
        "outputId": "d108a092-d9c9-460f-bf06-04aa8e426aa7"
      },
      "outputs": [
        {
          "data": {
            "text/html": [
              "<div>\n",
              "<style scoped>\n",
              "    .dataframe tbody tr th:only-of-type {\n",
              "        vertical-align: middle;\n",
              "    }\n",
              "\n",
              "    .dataframe tbody tr th {\n",
              "        vertical-align: top;\n",
              "    }\n",
              "\n",
              "    .dataframe thead th {\n",
              "        text-align: right;\n",
              "    }\n",
              "</style>\n",
              "<table border=\"1\" class=\"dataframe\">\n",
              "  <thead>\n",
              "    <tr style=\"text-align: right;\">\n",
              "      <th></th>\n",
              "      <th>ph</th>\n",
              "      <th>Hardness</th>\n",
              "      <th>Solids</th>\n",
              "      <th>Chloramines</th>\n",
              "      <th>Sulfate</th>\n",
              "      <th>Conductivity</th>\n",
              "      <th>Organic_carbon</th>\n",
              "      <th>Trihalomethanes</th>\n",
              "      <th>Turbidity</th>\n",
              "    </tr>\n",
              "  </thead>\n",
              "  <tbody>\n",
              "    <tr>\n",
              "      <th>1345</th>\n",
              "      <td>9.00</td>\n",
              "      <td>234.84</td>\n",
              "      <td>20933.51</td>\n",
              "      <td>7.98</td>\n",
              "      <td>365.06</td>\n",
              "      <td>444.08</td>\n",
              "      <td>12.17</td>\n",
              "      <td>54.40</td>\n",
              "      <td>3.70</td>\n",
              "    </tr>\n",
              "    <tr>\n",
              "      <th>406</th>\n",
              "      <td>4.73</td>\n",
              "      <td>249.67</td>\n",
              "      <td>20834.29</td>\n",
              "      <td>5.04</td>\n",
              "      <td>379.00</td>\n",
              "      <td>411.11</td>\n",
              "      <td>17.77</td>\n",
              "      <td>78.82</td>\n",
              "      <td>3.16</td>\n",
              "    </tr>\n",
              "    <tr>\n",
              "      <th>3269</th>\n",
              "      <td>11.49</td>\n",
              "      <td>94.81</td>\n",
              "      <td>37188.83</td>\n",
              "      <td>9.26</td>\n",
              "      <td>258.93</td>\n",
              "      <td>439.89</td>\n",
              "      <td>16.17</td>\n",
              "      <td>41.56</td>\n",
              "      <td>4.37</td>\n",
              "    </tr>\n",
              "    <tr>\n",
              "      <th>2634</th>\n",
              "      <td>7.40</td>\n",
              "      <td>229.78</td>\n",
              "      <td>28630.95</td>\n",
              "      <td>8.71</td>\n",
              "      <td>302.32</td>\n",
              "      <td>437.37</td>\n",
              "      <td>11.93</td>\n",
              "      <td>78.58</td>\n",
              "      <td>3.80</td>\n",
              "    </tr>\n",
              "    <tr>\n",
              "      <th>1542</th>\n",
              "      <td>6.35</td>\n",
              "      <td>97.28</td>\n",
              "      <td>19743.15</td>\n",
              "      <td>3.40</td>\n",
              "      <td>305.43</td>\n",
              "      <td>502.92</td>\n",
              "      <td>15.09</td>\n",
              "      <td>86.55</td>\n",
              "      <td>4.53</td>\n",
              "    </tr>\n",
              "    <tr>\n",
              "      <th>...</th>\n",
              "      <td>...</td>\n",
              "      <td>...</td>\n",
              "      <td>...</td>\n",
              "      <td>...</td>\n",
              "      <td>...</td>\n",
              "      <td>...</td>\n",
              "      <td>...</td>\n",
              "      <td>...</td>\n",
              "      <td>...</td>\n",
              "    </tr>\n",
              "    <tr>\n",
              "      <th>309</th>\n",
              "      <td>10.04</td>\n",
              "      <td>113.83</td>\n",
              "      <td>16266.43</td>\n",
              "      <td>7.94</td>\n",
              "      <td>363.87</td>\n",
              "      <td>557.49</td>\n",
              "      <td>13.20</td>\n",
              "      <td>75.23</td>\n",
              "      <td>3.81</td>\n",
              "    </tr>\n",
              "    <tr>\n",
              "      <th>170</th>\n",
              "      <td>8.29</td>\n",
              "      <td>206.16</td>\n",
              "      <td>35216.39</td>\n",
              "      <td>6.44</td>\n",
              "      <td>347.06</td>\n",
              "      <td>399.48</td>\n",
              "      <td>16.07</td>\n",
              "      <td>79.95</td>\n",
              "      <td>3.95</td>\n",
              "    </tr>\n",
              "    <tr>\n",
              "      <th>2403</th>\n",
              "      <td>4.87</td>\n",
              "      <td>174.06</td>\n",
              "      <td>15222.25</td>\n",
              "      <td>5.84</td>\n",
              "      <td>412.04</td>\n",
              "      <td>333.50</td>\n",
              "      <td>15.27</td>\n",
              "      <td>68.93</td>\n",
              "      <td>3.97</td>\n",
              "    </tr>\n",
              "    <tr>\n",
              "      <th>2208</th>\n",
              "      <td>8.38</td>\n",
              "      <td>156.95</td>\n",
              "      <td>21923.87</td>\n",
              "      <td>7.66</td>\n",
              "      <td>379.54</td>\n",
              "      <td>364.79</td>\n",
              "      <td>11.77</td>\n",
              "      <td>62.86</td>\n",
              "      <td>3.59</td>\n",
              "    </tr>\n",
              "    <tr>\n",
              "      <th>2041</th>\n",
              "      <td>6.42</td>\n",
              "      <td>180.29</td>\n",
              "      <td>26034.53</td>\n",
              "      <td>9.71</td>\n",
              "      <td>308.96</td>\n",
              "      <td>473.06</td>\n",
              "      <td>17.72</td>\n",
              "      <td>57.60</td>\n",
              "      <td>3.14</td>\n",
              "    </tr>\n",
              "  </tbody>\n",
              "</table>\n",
              "<p>2400 rows × 9 columns</p>\n",
              "</div>"
            ],
            "text/plain": [
              "         ph  Hardness    Solids  Chloramines  Sulfate  Conductivity  \\\n",
              "1345   9.00    234.84  20933.51         7.98   365.06        444.08   \n",
              "406    4.73    249.67  20834.29         5.04   379.00        411.11   \n",
              "3269  11.49     94.81  37188.83         9.26   258.93        439.89   \n",
              "2634   7.40    229.78  28630.95         8.71   302.32        437.37   \n",
              "1542   6.35     97.28  19743.15         3.40   305.43        502.92   \n",
              "...     ...       ...       ...          ...      ...           ...   \n",
              "309   10.04    113.83  16266.43         7.94   363.87        557.49   \n",
              "170    8.29    206.16  35216.39         6.44   347.06        399.48   \n",
              "2403   4.87    174.06  15222.25         5.84   412.04        333.50   \n",
              "2208   8.38    156.95  21923.87         7.66   379.54        364.79   \n",
              "2041   6.42    180.29  26034.53         9.71   308.96        473.06   \n",
              "\n",
              "      Organic_carbon  Trihalomethanes  Turbidity  \n",
              "1345           12.17            54.40       3.70  \n",
              "406            17.77            78.82       3.16  \n",
              "3269           16.17            41.56       4.37  \n",
              "2634           11.93            78.58       3.80  \n",
              "1542           15.09            86.55       4.53  \n",
              "...              ...              ...        ...  \n",
              "309            13.20            75.23       3.81  \n",
              "170            16.07            79.95       3.95  \n",
              "2403           15.27            68.93       3.97  \n",
              "2208           11.77            62.86       3.59  \n",
              "2041           17.72            57.60       3.14  \n",
              "\n",
              "[2400 rows x 9 columns]"
            ]
          },
          "execution_count": 23,
          "metadata": {},
          "output_type": "execute_result"
        }
      ],
      "source": [
        "X"
      ]
    },
    {
      "cell_type": "code",
      "execution_count": 24,
      "metadata": {
        "colab": {
          "base_uri": "https://localhost:8080/"
        },
        "id": "-Ym6JEB-NWAG",
        "outputId": "623921cc-0dbf-4a7c-ca14-8514f0af3575"
      },
      "outputs": [
        {
          "data": {
            "text/plain": [
              "ph         Hardness    Solids        Chloramines  Sulfate     Conductivity  Organic_carbon  Trihalomethanes  Turbidity  Potability\n",
              "11.491011  94.812545   37188.826022  9.263166     258.930600  439.893618    16.172755       41.558501        4.369264   1             7\n",
              "4.959853   215.854869  9887.830755   6.954231     379.504731  527.479694    14.326638       52.388849        3.455045   1             6\n",
              "8.151249   205.847301  15661.940335  7.009437     335.622779  555.590284    14.861133       72.762585        2.799883   1             5\n",
              "7.036752   210.369104  13812.410421  8.378282     342.498361  489.545055    14.823904       69.193358        3.285372   1             5\n",
              "7.571684   173.008338  8835.555876   9.566105     436.294071  305.834487    11.009592       92.481885        3.920288   1             5\n",
              "                                                                                                                                     ..\n",
              "6.548018   176.006536  38368.012618  7.415054     278.093309  291.121528    19.422535       81.368568        5.930228   0             1\n",
              "6.541008   195.566889  29616.492869  7.108628     328.998540  530.799668    11.899398       68.141446        2.355934   0             1\n",
              "6.539370   214.638603  21230.431409  6.485594     336.974861  532.572785    18.263688       90.908081        4.527364   0             1\n",
              "6.539115   218.619699  23308.296877  7.177445     355.443831  585.166427    10.742146       40.773856        4.211672   1             1\n",
              "14.000000  235.677458  24008.992040  5.635029     381.097711  460.745267    13.452538       72.859468        3.170994   0             1\n",
              "Length: 1817, dtype: int64"
            ]
          },
          "execution_count": 24,
          "metadata": {},
          "output_type": "execute_result"
        }
      ],
      "source": [
        "data.value_counts()"
      ]
    },
    {
      "cell_type": "code",
      "execution_count": 25,
      "metadata": {
        "colab": {
          "base_uri": "https://localhost:8080/"
        },
        "id": "xc6HjeVBNQMm",
        "outputId": "7d220c2c-9170-4ccb-8d5c-ac4739f175dc"
      },
      "outputs": [
        {
          "data": {
            "text/plain": [
              "0    1200\n",
              "1    1200\n",
              "Name: Potability, dtype: int64"
            ]
          },
          "execution_count": 25,
          "metadata": {},
          "output_type": "execute_result"
        }
      ],
      "source": [
        "data.Potability.value_counts()"
      ]
    },
    {
      "cell_type": "code",
      "execution_count": 26,
      "metadata": {
        "id": "e6pzGypNKCs3"
      },
      "outputs": [],
      "source": [
        "# from sklearn.preprocessing import StandardScaler\n",
        "# sc = StandardScaler()\n",
        "# features= X.columns\n",
        "# X[features] = sc.fit_transform(X[features])"
      ]
    },
    {
      "cell_type": "code",
      "execution_count": 52,
      "metadata": {
        "colab": {
          "base_uri": "https://localhost:8080/"
        },
        "id": "gVKDgWfknmn6",
        "outputId": "f7462f24-0aa5-4f2f-e558-685d22954c1a"
      },
      "outputs": [
        {
          "name": "stdout",
          "output_type": "stream",
          "text": [
            "Best parameters for Random Forest: {'min_samples_leaf': 2, 'n_estimators': 100}\n"
          ]
        }
      ],
      "source": [
        "from sklearn.ensemble import RandomForestClassifier\n",
        "from sklearn.model_selection import train_test_split\n",
        "from sklearn.model_selection import RandomizedSearchCV, GridSearchCV\n",
        "\n",
        "X_train, X_test, y_train, y_test = train_test_split(X,y, test_size = 0.2)\n",
        "rf = RandomForestClassifier()\n",
        "params_rf = {'n_estimators':[100,200, 350, 500], 'min_samples_leaf':[2, 10, 30]}\n",
        "grid_rf = GridSearchCV(rf, param_grid=params_rf, cv=5)\n",
        "grid_rf.fit(X_train.values, y_train.values)\n",
        "print(\"Best parameters for Random Forest:\", grid_rf.best_params_)"
      ]
    },
    {
      "cell_type": "code",
      "execution_count": 65,
      "metadata": {
        "id": "BdEsMZwxLNOv"
      },
      "outputs": [],
      "source": [
        "rf = RandomForestClassifier(n_estimators=500, min_samples_leaf=2, random_state=100)"
      ]
    },
    {
      "cell_type": "code",
      "execution_count": 66,
      "metadata": {
        "colab": {
          "base_uri": "https://localhost:8080/"
        },
        "id": "VYoFKzQxLW6Q",
        "outputId": "bb69d913-0a94-48a0-c3a5-9e787d5894d7"
      },
      "outputs": [
        {
          "name": "stdout",
          "output_type": "stream",
          "text": [
            "0.8125\n"
          ]
        }
      ],
      "source": [
        "from sklearn.metrics import accuracy_score ,confusion_matrix , classification_report , r2_score\n",
        "\n",
        "rf.fit(X_train.values, y_train.values)    \n",
        "   \n",
        "y_pred = rf.predict(X_test.values)\n",
        "accuracy = accuracy_score(y_test,y_pred)\n",
        "\n",
        "print(accuracy)"
      ]
    },
    {
      "cell_type": "code",
      "execution_count": 67,
      "metadata": {
        "colab": {
          "base_uri": "https://localhost:8080/"
        },
        "id": "fRPLbLn4-vEq",
        "outputId": "82c41f67-29cb-442b-c72c-40cd55cbe778"
      },
      "outputs": [
        {
          "data": {
            "text/plain": [
              "array([0], dtype=int64)"
            ]
          },
          "execution_count": 67,
          "metadata": {},
          "output_type": "execute_result"
        }
      ],
      "source": [
        "rf.predict([[0,0,0,0,0,0,0,0,0]])"
      ]
    },
    {
      "cell_type": "code",
      "execution_count": 68,
      "metadata": {
        "colab": {
          "base_uri": "https://localhost:8080/"
        },
        "id": "uu_m5h8CLV0D",
        "outputId": "26f68bda-4a6e-48ae-ebe5-cf6b44aabf14"
      },
      "outputs": [
        {
          "name": "stdout",
          "output_type": "stream",
          "text": [
            "[[198  44]\n",
            " [ 46 192]]\n"
          ]
        }
      ],
      "source": [
        "# True Positive , True Negative.....\n",
        "conf_matrix = confusion_matrix(y_test, y_pred)\n",
        "print(conf_matrix)"
      ]
    },
    {
      "cell_type": "code",
      "execution_count": 69,
      "metadata": {
        "colab": {
          "base_uri": "https://localhost:8080/"
        },
        "id": "1TAnbg4G-VBX",
        "outputId": "20d34393-2cf2-4024-9042-1c3fe7324dc4"
      },
      "outputs": [
        {
          "name": "stdout",
          "output_type": "stream",
          "text": [
            "              precision    recall  f1-score   support\n",
            "\n",
            "           0       0.81      0.82      0.81       242\n",
            "           1       0.81      0.81      0.81       238\n",
            "\n",
            "    accuracy                           0.81       480\n",
            "   macro avg       0.81      0.81      0.81       480\n",
            "weighted avg       0.81      0.81      0.81       480\n",
            "\n"
          ]
        }
      ],
      "source": [
        "print(classification_report(y_test,y_pred))"
      ]
    },
    {
      "cell_type": "code",
      "execution_count": 70,
      "metadata": {
        "colab": {
          "base_uri": "https://localhost:8080/"
        },
        "id": "55Rp_r9a-uAU",
        "outputId": "c15b02de-f158-495e-b400-af2fd392c3bf"
      },
      "outputs": [
        {
          "name": "stdout",
          "output_type": "stream",
          "text": [
            "0.24994791304951736\n"
          ]
        }
      ],
      "source": [
        "print(r2_score(y_test,y_pred))"
      ]
    },
    {
      "cell_type": "code",
      "execution_count": 71,
      "metadata": {
        "id": "mqq9q1_vAJ09"
      },
      "outputs": [],
      "source": [
        "#Saving the trained model"
      ]
    },
    {
      "cell_type": "code",
      "execution_count": 72,
      "metadata": {
        "id": "XGvfhwt6AKAL"
      },
      "outputs": [],
      "source": [
        "import pickle\n",
        "import sklearn"
      ]
    },
    {
      "cell_type": "code",
      "execution_count": 73,
      "metadata": {
        "id": "3wnyrh0AXP0k"
      },
      "outputs": [],
      "source": [
        "filename='trained_final.pkl'\n",
        "pickle.dump(rf,open(filename,'wb'))"
      ]
    },
    {
      "cell_type": "code",
      "execution_count": 74,
      "metadata": {
        "id": "CQDykoAzXQBG"
      },
      "outputs": [],
      "source": [
        "#loading the saved model\n",
        "sklearn.__version__ = '1.2.2'"
      ]
    },
    {
      "cell_type": "code",
      "execution_count": 75,
      "metadata": {
        "id": "WTGcqmdsXQCD"
      },
      "outputs": [],
      "source": [
        "loaded_model = pickle.load(open('trained_final.pkl','rb'))\n"
      ]
    },
    {
      "cell_type": "code",
      "execution_count": 76,
      "metadata": {
        "colab": {
          "base_uri": "https://localhost:8080/"
        },
        "id": "V0tlJ-aoXQdw",
        "outputId": "5441baf2-706f-4776-e756-799e97eecbbf"
      },
      "outputs": [
        {
          "name": "stdout",
          "output_type": "stream",
          "text": [
            "[1]\n",
            "The water is suitable for drinking\n"
          ]
        }
      ],
      "source": [
        "# input_data =(7.7,200.22,17000.234343,7.72345,356.434345,500.32545,10.343434,100.324343,3.5353434)\n",
        "# input_data =(7.423088,210.046197,31073.03133,6.374709, 312.103161, 460.894212, 16.805990, 41.607907 ,3.712682)\n",
        "# input_data =(11.491011,94.812545,37188.826022,9.263166,258.930600,439.893618,16.172755,41.558501,4.369264\t)\n",
        "input_data =(7.754884, 210.720769 ,18857.058497, 5.693752 ,376.484622 ,375.672691 ,14.708599 ,43.299820 ,5.128390)\n",
        "input_data_as_numpy_array = np.asarray(input_data)\n",
        "input_data_reshaped = input_data_as_numpy_array.reshape(1,-1)\n",
        "prediction=loaded_model.predict(input_data_reshaped)\n",
        "print(prediction)\n",
        "\n",
        "if(prediction[0]==0):\n",
        "  print(\"The water is not suitable for drinking\")\n",
        "else:\n",
        "  print(\"The water is suitable for drinking\")"
      ]
    },
    {
      "cell_type": "code",
      "execution_count": null,
      "metadata": {
        "id": "w8ZZ0CL-QGYF"
      },
      "outputs": [],
      "source": []
    },
    {
      "cell_type": "code",
      "execution_count": null,
      "metadata": {
        "id": "8oouICbFQGok"
      },
      "outputs": [],
      "source": []
    },
    {
      "cell_type": "code",
      "execution_count": null,
      "metadata": {
        "id": "zkKcAScaQGyz"
      },
      "outputs": [],
      "source": []
    },
    {
      "cell_type": "code",
      "execution_count": null,
      "metadata": {
        "id": "yz0NifPSQIX_"
      },
      "outputs": [],
      "source": []
    },
    {
      "cell_type": "code",
      "execution_count": null,
      "metadata": {
        "id": "sAIw3v0zQIip"
      },
      "outputs": [],
      "source": []
    },
    {
      "cell_type": "code",
      "execution_count": null,
      "metadata": {
        "colab": {
          "base_uri": "https://localhost:8080/"
        },
        "id": "JfY119cioQEC",
        "outputId": "360bb278-17a9-4f42-e267-0dc6b68e9dd6"
      },
      "outputs": [
        {
          "name": "stdout",
          "output_type": "stream",
          "text": [
            "[0]\n",
            "The water is not suitable for drinking\n"
          ]
        },
        {
          "name": "stderr",
          "output_type": "stream",
          "text": [
            "/usr/local/lib/python3.9/dist-packages/sklearn/base.py:439: UserWarning: X does not have valid feature names, but RandomForestClassifier was fitted with feature names\n",
            "  warnings.warn(\n"
          ]
        }
      ],
      "source": [
        "# input_data =(7.7,200.22,17000.234343,7.72345,356.434345,500.32545,10.343434,100.324343,3.5353434)\n",
        "input_data =(7.808856,193.553212,17329.802160,8.061362,333.775777,392.449580,19.903225,66.396293,2.798243)\n",
        "input_data_as_numpy_array = np.asarray(input_data)\n",
        "input_data_reshaped = input_data_as_numpy_array.reshape(1,-1)\n",
        "prediction=loaded_model.predict(input_data_reshaped)\n",
        "print(prediction)\n",
        "\n",
        "if(prediction[0]==0):\n",
        "  print(\"The water is not suitable for drinking\")\n",
        "else:\n",
        "  print(\"The water is suitable for drinking\")"
      ]
    },
    {
      "cell_type": "code",
      "execution_count": null,
      "metadata": {
        "colab": {
          "base_uri": "https://localhost:8080/"
        },
        "id": "Oe3DEd8ri2Gz",
        "outputId": "5466e0b6-7bce-42f9-bd25-d2f0c9b5f5d1"
      },
      "outputs": [
        {
          "name": "stdout",
          "output_type": "stream",
          "text": [
            "0\n",
            "Not Suitable\n"
          ]
        },
        {
          "name": "stderr",
          "output_type": "stream",
          "text": [
            "/usr/local/lib/python3.9/dist-packages/sklearn/base.py:439: UserWarning: X does not have valid feature names, but RandomForestClassifier was fitted with feature names\n",
            "  warnings.warn(\n"
          ]
        }
      ],
      "source": [
        "lst=loaded_model.predict_proba([[7.710960,181.938126,6552.626314,5.389249,390.596392,516.284083,17.010785,58.241734,4.288947]])[0]\n",
        "lst=lst.tolist()\n",
        "index=max(lst)\n",
        "prediction = lst.index(index)\n",
        "print(prediction)\n",
        "if prediction==0:\n",
        "  print(\"Not Suitable\")\n",
        "else:\n",
        "  print(\"Suitable\")"
      ]
    },
    {
      "cell_type": "code",
      "execution_count": null,
      "metadata": {
        "id": "Mg3MTRGWi2M0"
      },
      "outputs": [],
      "source": []
    }
  ],
  "metadata": {
    "colab": {
      "provenance": []
    },
    "kernelspec": {
      "display_name": "Python 3",
      "name": "python3"
    },
    "language_info": {
      "codemirror_mode": {
        "name": "ipython",
        "version": 3
      },
      "file_extension": ".py",
      "mimetype": "text/x-python",
      "name": "python",
      "nbconvert_exporter": "python",
      "pygments_lexer": "ipython3",
      "version": "3.10.6"
    }
  },
  "nbformat": 4,
  "nbformat_minor": 0
}
